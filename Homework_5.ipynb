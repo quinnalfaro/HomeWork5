{
  "nbformat": 4,
  "nbformat_minor": 0,
  "metadata": {
    "kernelspec": {
      "display_name": "Python 3",
      "language": "python",
      "name": "python3"
    },
    "language_info": {
      "codemirror_mode": {
        "name": "ipython",
        "version": 3
      },
      "file_extension": ".py",
      "mimetype": "text/x-python",
      "name": "python",
      "nbconvert_exporter": "python",
      "pygments_lexer": "ipython3",
      "version": "3.8.5"
    },
    "colab": {
      "name": "Homework 5.ipynb",
      "provenance": [],
      "include_colab_link": true
    },
    "accelerator": "GPU"
  },
  "cells": [
    {
      "cell_type": "markdown",
      "metadata": {
        "id": "view-in-github",
        "colab_type": "text"
      },
      "source": [
        "<a href=\"https://colab.research.google.com/github/quinnalfaro/HomeWork5/blob/main/Homework_5.ipynb\" target=\"_parent\"><img src=\"https://colab.research.google.com/assets/colab-badge.svg\" alt=\"Open In Colab\"/></a>"
      ]
    },
    {
      "cell_type": "code",
      "metadata": {
        "id": "229Z8cIpg24N"
      },
      "source": [
        "import numpy as np\n",
        "import matplotlib.pyplot as plt\n",
        "import pandas as pd\n",
        "\n",
        "import torch"
      ],
      "execution_count": null,
      "outputs": []
    },
    {
      "cell_type": "code",
      "metadata": {
        "id": "lLEu4fflg24P"
      },
      "source": [
        "path = '/content/sample_data/'\n",
        "\n",
        "df_train = pd.read_csv('/content/sample_data/mnist_train_small.csv')\n",
        "df_val = pd.read_csv('/content/sample_data/mnist_test.csv')"
      ],
      "execution_count": null,
      "outputs": []
    },
    {
      "cell_type": "code",
      "metadata": {
        "id": "d6aYcfh_g24Q"
      },
      "source": [
        "class DigitsDataset(torch.utils.data.Dataset):\n",
        "    def __init__(self, df):\n",
        "        self.df = df\n",
        "        \n",
        "    def __len__(self):\n",
        "        return len(self.df)\n",
        "    \n",
        "    def __getitem__(self, idx):\n",
        "        row = self.df.iloc[idx]\n",
        "        \n",
        "        x = np.float32(row[1:].values)/255\n",
        "        y = row[0]\n",
        "        \n",
        "        return x, y"
      ],
      "execution_count": null,
      "outputs": []
    },
    {
      "cell_type": "code",
      "metadata": {
        "id": "ys0kJimJg24Q"
      },
      "source": [
        "dataset_train = DigitsDataset(df_train)\n",
        "dataset_val = DigitsDataset(df_val)\n",
        "\n",
        "dataloader_train = torch.utils.data.DataLoader(dataset_train, batch_size = 64, shuffle = True)\n",
        "dataloader_val = torch.utils.data.DataLoader(dataset_val, batch_size = 64, shuffle = True)"
      ],
      "execution_count": null,
      "outputs": []
    },
    {
      "cell_type": "code",
      "metadata": {
        "colab": {
          "base_uri": "https://localhost:8080/",
          "height": 282
        },
        "id": "uD34lIhdg24Q",
        "outputId": "f170bedb-14d5-407a-e8b6-a01a784703a6"
      },
      "source": [
        "X_batch, Y_batch = next(iter(dataloader_train))\n",
        "plt.imshow(np.reshape(X_batch[0], (28,28)))\n",
        "print(Y_batch[0])"
      ],
      "execution_count": null,
      "outputs": [
        {
          "output_type": "stream",
          "text": [
            "tensor(4)\n"
          ],
          "name": "stdout"
        },
        {
          "output_type": "display_data",
          "data": {
            "image/png": "[encoded data removed]",
            "text/plain": [
              "<Figure size 432x288 with 1 Axes>"
            ]
          },
          "metadata": {
            "tags": [],
            "needs_background": "light"
          }
        }
      ]
    },
    {
      "cell_type": "code",
      "metadata": {
        "id": "S0tfOwdrg24R"
      },
      "source": [
        "class SimpleNeuralNetwork(torch.nn.Module):\n",
        "    def __init__(self):\n",
        "        \n",
        "        super().__init__()\n",
        "        self.dense1 = torch.nn.Linear(784, 100)\n",
        "        self.dense2 = torch.nn.Linear(100, 10)\n",
        "        \n",
        "        self.ReLU = torch.nn.ReLU()\n",
        "        \n",
        "    def forward(self, x):\n",
        "        x = self.dense1(x)\n",
        "        x = self.ReLU(x)\n",
        "        x = self.dense2(x)\n",
        "        \n",
        "        return x"
      ],
      "execution_count": null,
      "outputs": []
    },
    {
      "cell_type": "code",
      "metadata": {
        "id": "7ovOyA_1g24S"
      },
      "source": [
        "model = SimpleNeuralNetwork()\n",
        "device = torch.device('cuda')\n",
        "model = model.to(device)"
      ],
      "execution_count": null,
      "outputs": []
    },
    {
      "cell_type": "code",
      "metadata": {
        "id": "X6JWYG3qg24S"
      },
      "source": [
        "loss_fun = torch.nn.CrossEntropyLoss()\n",
        "optimizer = torch.optim.Adam(model.parameters(), lr = 0.001)"
      ],
      "execution_count": null,
      "outputs": []
    },
    {
      "cell_type": "code",
      "metadata": {
        "colab": {
          "base_uri": "https://localhost:8080/"
        },
        "id": "WFsgnYGSg24S",
        "outputId": "cf8748d7-07cc-4751-b408-586a7cfcbe59"
      },
      "source": [
        "num_epochs = 10\n",
        "N_train = len(dataset_train)\n",
        "N_val = len(dataset_val)\n",
        "\n",
        "train_losses = []\n",
        "val_losses = []\n",
        "\n",
        "for ep in range(num_epochs):\n",
        "\n",
        "    model.train()\n",
        "    train_loss = 0.0\n",
        "    batch_idx = 0\n",
        "    \n",
        "    for X_batch, Y_batch in dataloader_train:\n",
        "        \n",
        "        X_batch = X_batch.to(device)\n",
        "        Y_batch = Y_batch.to(device)\n",
        "        \n",
        "        N_batch = X_batch.shape[0]\n",
        "        outputs = model(X_batch)\n",
        "        loss_oneBatch = loss_fun(outputs, Y_batch)\n",
        "        \n",
        "        model.zero_grad()\n",
        "        loss_oneBatch.backward()\n",
        "        optimizer.step()\n",
        "        \n",
        "        train_loss += loss_oneBatch*N_batch\n",
        "        \n",
        "    model.eval()\n",
        "    val_loss = 0.0\n",
        "    for X_batch, Y_batch in dataloader_val:\n",
        "        X_batch = X_batch.to(device)\n",
        "        Y_batch = Y_batch.to(device)\n",
        "        \n",
        "        with torch.no_grad():\n",
        "            \n",
        "            N_batch = X_batch.shape[0]\n",
        "            outputs = model(X_batch)\n",
        "            loss_oneBatch = loss_fun(outputs, Y_batch)\n",
        "            val_loss += loss_oneBatch*N_batch\n",
        "            \n",
        "    train_losses.append(train_loss/N_train)\n",
        "    val_losses.append(val_loss/N_val)\n",
        "    \n",
        "    print('epoch: ', ep, 'train loss: ', train_loss/N_train, 'validation loss: ', val_loss/N_val)"
      ],
      "execution_count": null,
      "outputs": [
        {
          "output_type": "stream",
          "text": [
            "epoch:  0 train loss:  tensor(0.5763, device='cuda:0', grad_fn=<DivBackward0>) validation loss:  tensor(0.3016, device='cuda:0')\n",
            "epoch:  1 train loss:  tensor(0.2732, device='cuda:0', grad_fn=<DivBackward0>) validation loss:  tensor(0.2421, device='cuda:0')\n",
            "epoch:  2 train loss:  tensor(0.2181, device='cuda:0', grad_fn=<DivBackward0>) validation loss:  tensor(0.2079, device='cuda:0')\n",
            "epoch:  3 train loss:  tensor(0.1799, device='cuda:0', grad_fn=<DivBackward0>) validation loss:  tensor(0.1879, device='cuda:0')\n",
            "epoch:  4 train loss:  tensor(0.1506, device='cuda:0', grad_fn=<DivBackward0>) validation loss:  tensor(0.1710, device='cuda:0')\n",
            "epoch:  5 train loss:  tensor(0.1261, device='cuda:0', grad_fn=<DivBackward0>) validation loss:  tensor(0.1612, device='cuda:0')\n",
            "epoch:  6 train loss:  tensor(0.1059, device='cuda:0', grad_fn=<DivBackward0>) validation loss:  tensor(0.1480, device='cuda:0')\n",
            "epoch:  7 train loss:  tensor(0.0920, device='cuda:0', grad_fn=<DivBackward0>) validation loss:  tensor(0.1345, device='cuda:0')\n",
            "epoch:  8 train loss:  tensor(0.0764, device='cuda:0', grad_fn=<DivBackward0>) validation loss:  tensor(0.1336, device='cuda:0')\n",
            "epoch:  9 train loss:  tensor(0.0663, device='cuda:0', grad_fn=<DivBackward0>) validation loss:  tensor(0.1230, device='cuda:0')\n"
          ],
          "name": "stdout"
        }
      ]
    },
    {
      "cell_type": "markdown",
      "metadata": {
        "id": "SKsiYuW6pI9S"
      },
      "source": [
        "The following is a plot of objective function value versus epoch. We do not observe overfitting, and can see this is the fact that though the fact that the validation and training dataset see a drop in objective function over iterations. If it were overfitting, then we would likely observe the validation's objective function value (orange) rise as the training function's objective function value (blue) would continue to drop. Around 3 though we begin to see some overfitting as the validation loss value flattens as the training loss continues to drop somewhat sharply."
      ]
    },
    {
      "cell_type": "code",
      "metadata": {
        "colab": {
          "base_uri": "https://localhost:8080/",
          "height": 298
        },
        "id": "mZnuhdpGg24U",
        "outputId": "a1f4eda3-0f27-4b52-e070-6f5918b74b0e"
      },
      "source": [
        "plt.plot(train_losses, label = 'training loss')\n",
        "plt.plot(val_losses, label = 'validation loss')\n",
        "plt.legend(loc = 'upper right')\n",
        "plt.title('Objective function value versus epoch')"
      ],
      "execution_count": null,
      "outputs": [
        {
          "output_type": "execute_result",
          "data": {
            "text/plain": [
              "Text(0.5, 1.0, 'Objective function value versus epoch')"
            ]
          },
          "metadata": {
            "tags": []
          },
          "execution_count": 139
        },
        {
          "output_type": "display_data",
          "data": {
            "image/png": "[encoded data removed]",
            "text/plain": [
              "<Figure size 432x288 with 1 Axes>"
            ]
          },
          "metadata": {
            "tags": [],
            "needs_background": "light"
          }
        }
      ]
    },
    {
      "cell_type": "markdown",
      "metadata": {
        "id": "gxAndeAH9LBF"
      },
      "source": [
        "Here we see the astonishing accuracy of the neural network as it gives us a 96% accuracy. "
      ]
    },
    {
      "cell_type": "code",
      "metadata": {
        "colab": {
          "base_uri": "https://localhost:8080/"
        },
        "id": "tn-YehzNiN1f",
        "outputId": "14705729-7473-4071-af3e-f01bb78a0fa2"
      },
      "source": [
        "num_correct = 0\n",
        "model.eval()\n",
        "\n",
        "for X_batch, Y_batch in dataloader_val:\n",
        "  X_batch = X_batch.to(device)\n",
        "  Y_batch = Y_batch.to(device)\n",
        "\n",
        "  with torch.no_grad():\n",
        "    outputs = model(X_batch)\n",
        "    #Non-numpy (Torch) syntax\n",
        "    #print(outputs.argmax(axis =1))\n",
        "    num_correct += sum(outputs.argmax(axis =1) == Y_batch)\n",
        "print('Accuracy: ', num_correct/N_val)"
      ],
      "execution_count": null,
      "outputs": [
        {
          "output_type": "stream",
          "text": [
            "Accuracy:  tensor(0.9642, device='cuda:0')\n"
          ],
          "name": "stdout"
        }
      ]
    },
    {
      "cell_type": "markdown",
      "metadata": {
        "id": "_-oZPTuq2Vio"
      },
      "source": [
        "# **Logistic regression from Neural Network**\n",
        "\n",
        "To make this now into a multiple logistic regression, we simple change the dimenstions to remove all of the hidden layers. This makes the neural network then act simply as a multiple logistic regression. I had difficulty getting a high accuracy with this method getting the best results by lowering the learning rate and raising the number of epochs. This though still only gave an accuracy around 35%."
      ]
    },
    {
      "cell_type": "code",
      "metadata": {
        "id": "yB5PPcdo-JYr"
      },
      "source": [
        "dataset_train = DigitsDataset(df_train)\n",
        "dataset_val = DigitsDataset(df_val)\n",
        "\n",
        "dataloader_train = torch.utils.data.DataLoader(dataset_train, batch_size = 64, shuffle = True)\n",
        "dataloader_val = torch.utils.data.DataLoader(dataset_val, batch_size = 64, shuffle = True)"
      ],
      "execution_count": null,
      "outputs": []
    },
    {
      "cell_type": "code",
      "metadata": {
        "colab": {
          "base_uri": "https://localhost:8080/",
          "height": 282
        },
        "id": "3zKMqig4-PGJ",
        "outputId": "064bfb1d-512c-4e3e-acbb-4c7c261b307f"
      },
      "source": [
        "X_batch, Y_batch = next(iter(dataloader_train))\n",
        "plt.imshow(np.reshape(X_batch[0], (28,28)))\n",
        "print(Y_batch[0])"
      ],
      "execution_count": null,
      "outputs": [
        {
          "output_type": "stream",
          "text": [
            "tensor(7)\n"
          ],
          "name": "stdout"
        },
        {
          "output_type": "display_data",
          "data": {
            "image/png": "[encoded data removed]",
            "text/plain": [
              "<Figure size 432x288 with 1 Axes>"
            ]
          },
          "metadata": {
            "tags": [],
            "needs_background": "light"
          }
        }
      ]
    },
    {
      "cell_type": "code",
      "metadata": {
        "id": "uWuoWvpzjO2k"
      },
      "source": [
        "class SimpleLogisticNeuralNetwork(torch.nn.Module):\n",
        "    def __init__(self):\n",
        "        \n",
        "        super().__init__()\n",
        "        #Here we change the dimensions to remove the hidden layers\n",
        "        self.dense1 = torch.nn.Linear(784, 1)\n",
        "        self.dense2 = torch.nn.Linear(1, 10)\n",
        "        \n",
        "        self.ReLU = torch.nn.ReLU()\n",
        "        #the additions of the softmax function here increases the accuracy of the model by 20%\n",
        "        self.Softmax = torch.nn.Softmax(dim =1)\n",
        "\n",
        "        \n",
        "    def forward(self, x):\n",
        "        x = self.dense1(x)\n",
        "        x = self.ReLU(x)\n",
        "        x = self.dense2(x)\n",
        "        \n",
        "        return x"
      ],
      "execution_count": null,
      "outputs": []
    },
    {
      "cell_type": "code",
      "metadata": {
        "id": "zuFVKLq-3IRk"
      },
      "source": [
        "logModel = SimpleLogisticNeuralNetwork()\n",
        "device = torch.device('cuda')\n",
        "logModel = logModel.to(device)"
      ],
      "execution_count": null,
      "outputs": []
    },
    {
      "cell_type": "code",
      "metadata": {
        "id": "hNsFBB9V5ARR"
      },
      "source": [
        "loss_fun = torch.nn.CrossEntropyLoss()\n",
        "optimizer = torch.optim.Adam(logModel.parameters(), lr = 0.001)"
      ],
      "execution_count": null,
      "outputs": []
    },
    {
      "cell_type": "code",
      "metadata": {
        "colab": {
          "base_uri": "https://localhost:8080/"
        },
        "id": "jacDuMGR3MuZ",
        "outputId": "2dada230-5dc7-4a09-90a4-543c012f5110"
      },
      "source": [
        "num_epochs = 25\n",
        "N_train = len(dataset_train)\n",
        "N_val = len(dataset_val)\n",
        "\n",
        "train_losses = []\n",
        "val_losses = []\n",
        "\n",
        "for ep in range(num_epochs):\n",
        "\n",
        "    logModel.train()\n",
        "    train_loss = 0.0\n",
        "    batch_idx = 0\n",
        "    \n",
        "    for X_batch, Y_batch in dataloader_train:\n",
        "        \n",
        "        X_batch = X_batch.to(device)\n",
        "        Y_batch = Y_batch.to(device)\n",
        "        \n",
        "        N_batch = X_batch.shape[0]\n",
        "        outputs = logModel(X_batch)\n",
        "        loss_oneBatch = loss_fun(outputs, Y_batch)\n",
        "        \n",
        "        logModel.zero_grad()\n",
        "        loss_oneBatch.backward()\n",
        "        optimizer.step()\n",
        "        \n",
        "        train_loss += loss_oneBatch*N_batch\n",
        "        \n",
        "    logModel.eval()\n",
        "    val_loss = 0.0\n",
        "    for X_batch, Y_batch in dataloader_val:\n",
        "        X_batch = X_batch.to(device)\n",
        "        Y_batch = Y_batch.to(device)\n",
        "        \n",
        "        with torch.no_grad():\n",
        "            \n",
        "            N_batch = X_batch.shape[0]\n",
        "            outputs = logModel(X_batch)\n",
        "            loss_oneBatch = loss_fun(outputs, Y_batch)\n",
        "            val_loss += loss_oneBatch*N_batch\n",
        "            \n",
        "    train_losses.append(train_loss/N_train)\n",
        "    val_losses.append(val_loss/N_val)\n",
        "    print('epoch: ', ep, 'train loss: ', train_loss/N_train, 'validation loss: ', val_loss/N_val)"
      ],
      "execution_count": null,
      "outputs": [
        {
          "output_type": "stream",
          "text": [
            "epoch:  0 train loss:  tensor(1.6844, device='cuda:0', grad_fn=<DivBackward0>) validation loss:  tensor(1.6881, device='cuda:0')\n",
            "epoch:  1 train loss:  tensor(1.6832, device='cuda:0', grad_fn=<DivBackward0>) validation loss:  tensor(1.6915, device='cuda:0')\n",
            "epoch:  2 train loss:  tensor(1.6813, device='cuda:0', grad_fn=<DivBackward0>) validation loss:  tensor(1.6850, device='cuda:0')\n",
            "epoch:  3 train loss:  tensor(1.6806, device='cuda:0', grad_fn=<DivBackward0>) validation loss:  tensor(1.6836, device='cuda:0')\n",
            "epoch:  4 train loss:  tensor(1.6788, device='cuda:0', grad_fn=<DivBackward0>) validation loss:  tensor(1.6824, device='cuda:0')\n",
            "epoch:  5 train loss:  tensor(1.6776, device='cuda:0', grad_fn=<DivBackward0>) validation loss:  tensor(1.6815, device='cuda:0')\n",
            "epoch:  6 train loss:  tensor(1.6768, device='cuda:0', grad_fn=<DivBackward0>) validation loss:  tensor(1.6824, device='cuda:0')\n",
            "epoch:  7 train loss:  tensor(1.6763, device='cuda:0', grad_fn=<DivBackward0>) validation loss:  tensor(1.6803, device='cuda:0')\n",
            "epoch:  8 train loss:  tensor(1.6754, device='cuda:0', grad_fn=<DivBackward0>) validation loss:  tensor(1.6816, device='cuda:0')\n",
            "epoch:  9 train loss:  tensor(1.6745, device='cuda:0', grad_fn=<DivBackward0>) validation loss:  tensor(1.6787, device='cuda:0')\n",
            "epoch:  10 train loss:  tensor(1.6732, device='cuda:0', grad_fn=<DivBackward0>) validation loss:  tensor(1.6779, device='cuda:0')\n",
            "epoch:  11 train loss:  tensor(1.6726, device='cuda:0', grad_fn=<DivBackward0>) validation loss:  tensor(1.6793, device='cuda:0')\n",
            "epoch:  12 train loss:  tensor(1.6719, device='cuda:0', grad_fn=<DivBackward0>) validation loss:  tensor(1.6766, device='cuda:0')\n",
            "epoch:  13 train loss:  tensor(1.6711, device='cuda:0', grad_fn=<DivBackward0>) validation loss:  tensor(1.6795, device='cuda:0')\n",
            "epoch:  14 train loss:  tensor(1.6707, device='cuda:0', grad_fn=<DivBackward0>) validation loss:  tensor(1.6754, device='cuda:0')\n",
            "epoch:  15 train loss:  tensor(1.6700, device='cuda:0', grad_fn=<DivBackward0>) validation loss:  tensor(1.6744, device='cuda:0')\n",
            "epoch:  16 train loss:  tensor(1.6688, device='cuda:0', grad_fn=<DivBackward0>) validation loss:  tensor(1.6747, device='cuda:0')\n",
            "epoch:  17 train loss:  tensor(1.6687, device='cuda:0', grad_fn=<DivBackward0>) validation loss:  tensor(1.6745, device='cuda:0')\n",
            "epoch:  18 train loss:  tensor(1.6680, device='cuda:0', grad_fn=<DivBackward0>) validation loss:  tensor(1.6729, device='cuda:0')\n",
            "epoch:  19 train loss:  tensor(1.6681, device='cuda:0', grad_fn=<DivBackward0>) validation loss:  tensor(1.6744, device='cuda:0')\n",
            "epoch:  20 train loss:  tensor(1.6665, device='cuda:0', grad_fn=<DivBackward0>) validation loss:  tensor(1.6736, device='cuda:0')\n",
            "epoch:  21 train loss:  tensor(1.6667, device='cuda:0', grad_fn=<DivBackward0>) validation loss:  tensor(1.6738, device='cuda:0')\n",
            "epoch:  22 train loss:  tensor(1.6659, device='cuda:0', grad_fn=<DivBackward0>) validation loss:  tensor(1.6766, device='cuda:0')\n",
            "epoch:  23 train loss:  tensor(1.6653, device='cuda:0', grad_fn=<DivBackward0>) validation loss:  tensor(1.6718, device='cuda:0')\n",
            "epoch:  24 train loss:  tensor(1.6649, device='cuda:0', grad_fn=<DivBackward0>) validation loss:  tensor(1.6715, device='cuda:0')\n"
          ],
          "name": "stdout"
        }
      ]
    },
    {
      "cell_type": "code",
      "metadata": {
        "colab": {
          "base_uri": "https://localhost:8080/"
        },
        "id": "T3ky1oja3dbA",
        "outputId": "d1d6d7e1-df08-4dca-8388-ea11a9335464"
      },
      "source": [
        "num_correct = 0\n",
        "logModel.eval()\n",
        "\n",
        "for X_batch, Y_batch in dataloader_val:\n",
        "  X_batch = X_batch.to(device)\n",
        "  Y_batch = Y_batch.to(device)\n",
        "\n",
        "  with torch.no_grad():\n",
        "    outputs = logModel(X_batch)\n",
        "    #Non-numpy (Torch) syntax\n",
        "    #print(outputs.argmax(axis =1))\n",
        "    num_correct += sum(outputs.argmax(axis =1) == Y_batch)\n",
        "print('Accuracy: ', num_correct/N_val)"
      ],
      "execution_count": null,
      "outputs": [
        {
          "output_type": "stream",
          "text": [
            "Accuracy:  tensor(0.3503, device='cuda:0')\n"
          ],
          "name": "stdout"
        }
      ]
    },
    {
      "cell_type": "code",
      "metadata": {
        "id": "e8BN3n5U35ZW"
      },
      "source": [
        ""
      ],
      "execution_count": null,
      "outputs": []
    }
  ]
}